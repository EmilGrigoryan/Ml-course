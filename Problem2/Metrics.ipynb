{
 "cells": [
  {
   "cell_type": "code",
   "execution_count": 23,
   "id": "35a639bc",
   "metadata": {},
   "outputs": [],
   "source": [
    "import numpy as np"
   ]
  },
  {
   "cell_type": "markdown",
   "id": "5ea23b3a",
   "metadata": {},
   "source": [
    "# Для проверки"
   ]
  },
  {
   "cell_type": "code",
   "execution_count": 24,
   "id": "462775c5",
   "metadata": {},
   "outputs": [],
   "source": [
    "from sklearn.metrics import accuracy_score as ac\n",
    "from sklearn.metrics import recall_score as rs\n",
    "from sklearn.metrics import precision_score as ps\n",
    "from sklearn.metrics import f1_score as fs"
   ]
  },
  {
   "cell_type": "code",
   "execution_count": 36,
   "id": "799dd4aa",
   "metadata": {},
   "outputs": [],
   "source": [
    "def confusion_matrix(y_true, y_pred):\n",
    "    print(y_true.shape)\n",
    "    print(y_pred.shape)\n",
    "    diff = y_true - y_pred\n",
    "    return {\n",
    "            \"TP\": y_true @ y_pred.T,\n",
    "            \"TN\": ((y_pred + y_true) == 0).sum(),\n",
    "            \"FP\": (diff == -1).sum(),\n",
    "            \"FN\": (diff == 1).sum(),\n",
    "    }"
   ]
  },
  {
   "cell_type": "code",
   "execution_count": 26,
   "id": "87f31b5e",
   "metadata": {},
   "outputs": [],
   "source": [
    "def split_percent(y_pred, percent):\n",
    "    if not percent:\n",
    "        return np.where(y_pred >= 0.5, 1, 0)\n",
    "    if percent >= 1 and percent <= 100:\n",
    "        ind = np.argsort(y_pred)\n",
    "        buf = np.array([0] * len(u))\n",
    "        buf[ind[:int(len(y_pred) * percent / 100)]] = 1\n",
    "        return buf\n",
    "    \n",
    "    "
   ]
  },
  {
   "cell_type": "code",
   "execution_count": 27,
   "id": "01ef3deb",
   "metadata": {},
   "outputs": [],
   "source": [
    "def accuracy_score(y_true, y_predict, percent=None):\n",
    "    y_predict = split_percent(y_predict, percent)\n",
    "    if y_predict is None:\n",
    "        return\n",
    "    matrix = confusion_matrix(y_true, y_predict)\n",
    "    return (matrix['TP'] + matrix['TP'])/ sum(matrix.values())\n",
    "    "
   ]
  },
  {
   "cell_type": "code",
   "execution_count": 28,
   "id": "535f7a0c",
   "metadata": {},
   "outputs": [],
   "source": [
    "def precision_score(y_true, y_predict, percent=None):\n",
    "    y_predict = split_percent(y_predict, percent)\n",
    "    if y_predict is None:\n",
    "        return\n",
    "    matrix = confusion_matrix(y_true, y_predict)\n",
    "    return matrix['TP']/(matrix['TP'] + matrix['FP']) "
   ]
  },
  {
   "cell_type": "code",
   "execution_count": 29,
   "id": "fa75ad65",
   "metadata": {},
   "outputs": [],
   "source": [
    "def recall_score(y_true, y_predict, percent=None):\n",
    "    y_predict = split_percent(y_predict, percent)\n",
    "    if y_predict is None:\n",
    "        return\n",
    "    matrix = confusion_matrix(y_true, y_predict)\n",
    "    return matrix['TP']/ (matrix['TP'] + matrix['FN']) "
   ]
  },
  {
   "cell_type": "code",
   "execution_count": 30,
   "id": "fd7a939c",
   "metadata": {},
   "outputs": [],
   "source": [
    "def lift_score(y_true, y_predict, percent=None):\n",
    "    y_predict = split_percent(y_predict, percent)\n",
    "    if y_predict is None:\n",
    "        return\n",
    "    matrix = confusion_matrix(y_true, y_predict)\n",
    "    precision = precision_score(y_true, y_predict)\n",
    "    return precision / ((matrix['TP'] + matrix['FN'])/sum(matrix.values()))"
   ]
  },
  {
   "cell_type": "code",
   "execution_count": 31,
   "id": "4e930d54",
   "metadata": {},
   "outputs": [],
   "source": [
    "def f1_score(y_true, y_predict, percent=None):\n",
    "    y_predict = split_percent(y_predict, percent)\n",
    "    if y_predict is None:\n",
    "        return\n",
    "    precision = precision_score(y_true, y_predict)\n",
    "    recall = recall_score(y_true, y_predict)\n",
    "    return 2 * (precision * recall) / (precision + recall) "
   ]
  },
  {
   "cell_type": "code",
   "execution_count": 32,
   "id": "9e2ba3b9",
   "metadata": {},
   "outputs": [],
   "source": [
    "def check_results():\n",
    "    prob_data = np.loadtxt('HW2_labels.txt', delimiter=',')\n",
    "    y_true = prob_data[:, 2:]\n",
    "    y_pred = prob_data[:,1:2]\n",
    "    print(accuracy_score(y_true, y_pred))\n",
    "    print(precision_score(y_true, y_pred))\n",
    "    print(recall_score(y_true, y_pred))\n",
    "    print(lift_score(y_true, y_pred))\n",
    "    print(f1_score(y_true, y_pred))"
   ]
  },
  {
   "cell_type": "code",
   "execution_count": null,
   "id": "9512a86b",
   "metadata": {},
   "outputs": [],
   "source": []
  },
  {
   "cell_type": "code",
   "execution_count": null,
   "id": "ce82ea9c",
   "metadata": {},
   "outputs": [],
   "source": []
  }
 ],
 "metadata": {
  "kernelspec": {
   "display_name": "Python 3",
   "language": "python",
   "name": "python3"
  },
  "language_info": {
   "codemirror_mode": {
    "name": "ipython",
    "version": 3
   },
   "file_extension": ".py",
   "mimetype": "text/x-python",
   "name": "python",
   "nbconvert_exporter": "python",
   "pygments_lexer": "ipython3",
   "version": "3.8.3"
  }
 },
 "nbformat": 4,
 "nbformat_minor": 5
}
